{
 "cells": [
  {
   "cell_type": "markdown",
   "metadata": {},
   "source": [
    "# Generalising the expression matrix covariate correction function\n",
    "\n",
    "14/03/22  \n",
    "Aine Fairbrother-Browne"
   ]
  },
  {
   "cell_type": "markdown",
   "metadata": {},
   "source": [
    "# Import data"
   ]
  },
  {
   "cell_type": "markdown",
   "metadata": {},
   "source": [
    "def correct_gene_by_sample_matrix(mat_file=\"\", covs_file=\"\", plot_shapiro_dist=True):\n",
    "\n",
    "    \"\"\"\n",
    "    :param mat: file path of a transcriptomic gene (rows) x sample (cols) matrix, where the values are counts, TPMs, FPKMs, RPKMs, etc (csv)\n",
    "    :param covs: file path of a covariate (rows) by sample (cols) matrix containing the covariates that you want to correct for. These must be numeric, for instance sex should be encoded as 0|1. (csv)\n",
    "    :param: plot_shapiro_dist\n",
    "    :return: residuals df\n",
    "    \n",
    "    \"\"\""
   ]
  },
  {
   "cell_type": "code",
   "execution_count": null,
   "metadata": {},
   "outputs": [],
   "source": [
    "# define function args\n",
    "mat_file = \"/home/abrowne/projects/amppd_analysis/data/processed_and_unprocessed_transcriptomic/mt_nuc_corr_pipeline_output/BF_TPM.csv\"\n",
    "covs_file = \"/home/abrowne/projects/amppd_analysis/data/MatrixEQTL_input/covariates/BF_cohort_cov_table_for_MatrixEQTL.csv\"\n",
    "plot_shapiro_dist=True"
   ]
  },
  {
   "cell_type": "code",
   "execution_count": null,
   "metadata": {},
   "outputs": [],
   "source": [
    "# import libs\n",
    "import pandas as pd\n",
    "import numpy as np\n",
    "from sklearn.linear_model import LinearRegression\n",
    "from scipy.stats import shapiro\n",
    "import sys\n",
    "import os\n",
    "import re\n",
    "%load_ext autotime"
   ]
  },
  {
   "cell_type": "code",
   "execution_count": null,
   "metadata": {},
   "outputs": [],
   "source": [
    "# import tpm file\n",
    "print(\"1. Importing mat_file.\")\n",
    "mat = pd.read_csv(open(mat_file), \n",
    "                      encoding=\"utf-8\", \n",
    "                      engine='python', \n",
    "                      index_col=0, \n",
    "                      header=0)\n",
    "#mat = mat.iloc[1:15000, :]"
   ]
  },
  {
   "cell_type": "code",
   "execution_count": null,
   "metadata": {},
   "outputs": [],
   "source": [
    "print(\"mat dimensions=\",mat.shape)"
   ]
  },
  {
   "cell_type": "code",
   "execution_count": null,
   "metadata": {},
   "outputs": [],
   "source": [
    "print(\"2. Importing covs_file.\")\n",
    "# import covariate/metadata file\n",
    "covs = pd.read_csv(open(covs_file), \n",
    "                      encoding=\"utf-8\", \n",
    "                      engine='python', \n",
    "                      index_col=0, \n",
    "                      header=0)"
   ]
  },
  {
   "cell_type": "code",
   "execution_count": null,
   "metadata": {},
   "outputs": [],
   "source": [
    "print(\"covs dimensions=\",covs.shape)"
   ]
  },
  {
   "cell_type": "code",
   "execution_count": null,
   "metadata": {},
   "outputs": [],
   "source": [
    "# getting columns (sample IDs) in common between covs and mat\n",
    "intersection_cols = covs.columns & mat.columns\n",
    "intersection_cols\n",
    "print(len(intersection_cols), \"column names in common between mat and covs.\")"
   ]
  },
  {
   "cell_type": "code",
   "execution_count": null,
   "metadata": {},
   "outputs": [],
   "source": [
    "print(\"3. Filtering mat and covs for column names in common.\")\n",
    "covs = covs[intersection_cols]\n",
    "mat = mat[intersection_cols]"
   ]
  },
  {
   "cell_type": "code",
   "execution_count": null,
   "metadata": {},
   "outputs": [],
   "source": [
    "print(\"After filtering, the dimensions of covs =\", covs.shape, \"and dimensions of mat =\", mat.shape)"
   ]
  },
  {
   "cell_type": "code",
   "execution_count": null,
   "metadata": {},
   "outputs": [],
   "source": [
    "# fill encoded covs with mean - fills with most common value for the variable in question\n",
    "# allows the mlr fn. to run, and should make very little difference to the correction \n",
    "covs = covs.T\n",
    "covs = covs.fillna(covs.mean())"
   ]
  },
  {
   "cell_type": "code",
   "execution_count": null,
   "metadata": {},
   "outputs": [],
   "source": [
    "# make samples = rows, genes = cols\n",
    "mat = mat.T"
   ]
  },
  {
   "cell_type": "code",
   "execution_count": null,
   "metadata": {},
   "outputs": [],
   "source": [
    "# remove genes (cols) that are all 0\n",
    "mat = mat.loc[:, ~mat.eq(0).all()]\n",
    "# remove genes (cols) that are all NA\n",
    "mat = mat.dropna(axis=1)"
   ]
  },
  {
   "cell_type": "code",
   "execution_count": null,
   "metadata": {},
   "outputs": [],
   "source": [
    "print(\"4. Checking for duplicate columns\")\n",
    "if(mat.loc[:,mat.columns.duplicated()].shape[1]>0):\n",
    "    print(mat.loc[:,mat.columns.duplicated()].shape[1], \"duplicate columns detected, these will be removed.\")\n",
    "if(mat.loc[:,mat.columns.duplicated()].shape[1]==0):\n",
    "    print(\"No duplicate columns detected.\")"
   ]
  },
  {
   "cell_type": "code",
   "execution_count": null,
   "metadata": {},
   "outputs": [],
   "source": [
    "# remove dup cols in mat\n",
    "mat = mat.loc[:,~mat.columns.duplicated()]"
   ]
  },
  {
   "cell_type": "code",
   "execution_count": null,
   "metadata": {},
   "outputs": [],
   "source": [
    "# remove index name\n",
    "mat = mat.rename_axis(None, axis=1)\n",
    "covs = covs.rename_axis(None, axis=1)"
   ]
  },
  {
   "cell_type": "code",
   "execution_count": null,
   "metadata": {},
   "outputs": [],
   "source": [
    "# performing mlr across genes \n",
    "\n",
    "# defining empty array to hold residual tpm values\n",
    "residual_df = pd.DataFrame(np.zeros(shape=(len(mat.index.values), len(mat.columns.values))),\n",
    "                            index=mat.index,\n",
    "                            columns=mat.columns)\n",
    "\n",
    "# defining empty array to hold shapiro pvals\n",
    "shapiro_df = pd.DataFrame(np.zeros(shape=(len(mat.columns.values), 1)),\n",
    "                           index=mat.columns,\n",
    "                           columns=['shapiro_pval'])"
   ]
  },
  {
   "cell_type": "code",
   "execution_count": null,
   "metadata": {},
   "outputs": [],
   "source": [
    "mat.head()"
   ]
  },
  {
   "cell_type": "code",
   "execution_count": null,
   "metadata": {},
   "outputs": [],
   "source": [
    "# initiating the lm\n",
    "print(\"5. Initialising the linear regression model\")\n",
    "lm = LinearRegression()"
   ]
  },
  {
   "cell_type": "code",
   "execution_count": null,
   "metadata": {},
   "outputs": [],
   "source": [
    "# define fn. to apply column-wise\n",
    "def regress_covs_from_gene(y):\n",
    "\n",
    "    \"\"\"\n",
    "    function to regress out covariates from each gene - applies over the gene axis\n",
    "    inserts residuals into predefined residual dataframe with correct row (sample id) and col (gene) labels\n",
    "    \"\"\"\n",
    "    gene_name = y.name\n",
    "    \n",
    "    print(gene_name)\n",
    "\n",
    "    # predictors\n",
    "    X = covs\n",
    "\n",
    "    # response var\n",
    "    y = np.array(y)\n",
    "\n",
    "    # get list of locations where gene has nan values\n",
    "    nan_locs = np.where(np.isnan(y))[0]\n",
    "\n",
    "    # masking NAs\n",
    "    finiteYmask = np.isfinite(y)\n",
    "    \n",
    "    # cleaning NAs from predictors and response vars\n",
    "    Yclean = y[finiteYmask]\n",
    "    Xclean = X[finiteYmask]\n",
    "    \n",
    "    # fit the model \n",
    "    lm.fit(Xclean, Yclean)\n",
    "\n",
    "    # make predictions from covs - i.e. expected TPMs\n",
    "    predictions = lm.predict(Xclean)\n",
    "    \n",
    "    # reinsert removed nan values one-by-one to make y and predictions the same length\n",
    "    for i in range(0, len(nan_locs)):\n",
    "        predictions = np.insert(predictions, nan_locs[i], np.nan)\n",
    "\n",
    "    # residuals = observations - predictions, normalising so they're normally distributed\n",
    "    residuals = y - predictions\n",
    "\n",
    "    # adding residuals to residual df\n",
    "    residual_df[gene_name] = residuals\n",
    "    \n",
    "    # cleaning residuals of NaNs for shapiro fn. \n",
    "    shapiro_resids = residuals[np.logical_not(np.isnan(residuals))]\n",
    "\n",
    "    # get shapiro pvals and add to shapiro_df\n",
    "    shapiro_pval = shapiro(shapiro_resids)[1]\n",
    "    shapiro_df.loc[gene_name, 'shapiro_pval'] = shapiro_pval"
   ]
  },
  {
   "cell_type": "code",
   "execution_count": null,
   "metadata": {},
   "outputs": [],
   "source": [
    "# applying regress_covs_from_gene fn. across genes\n",
    "# for 160 samples (rows) and 15K genes (cols), this step takes 41 seconds\n",
    "print(\"6. Applying linear regression across\", mat.shape[1], \"columns (genes)\")\n",
    "mat.apply(regress_covs_from_gene, axis=0);\n",
    "print(\"Regression done, residuals generated.\")"
   ]
  },
  {
   "cell_type": "code",
   "execution_count": null,
   "metadata": {},
   "outputs": [],
   "source": [
    "# find % genes with normally distributed residuals\n",
    "sig_norm_gene_count = (int(shapiro_df[shapiro_df <= 0.05].count()) / len(shapiro_df.index.values)) * 100\n",
    "print(round(sig_norm_gene_count, 2), \"% of gene residuals have a significantly normal distribution\")"
   ]
  },
  {
   "cell_type": "code",
   "execution_count": null,
   "metadata": {},
   "outputs": [],
   "source": [
    "# generate outfile names\n",
    "print(\"7. Writing output\")\n",
    "residual_out_file = mat_file.replace(\".csv\", \"_residuals.csv\") \n",
    "shapiro_out_file = mat_file.replace(\".csv\", \"_shapiro_pvals.csv\") "
   ]
  },
  {
   "cell_type": "code",
   "execution_count": null,
   "metadata": {
    "scrolled": true
   },
   "outputs": [],
   "source": [
    "# export output files\n",
    "residual_df.to_csv(residual_out_file, index=True, header=True)\n",
    "shapiro_df.to_csv(shapiro_out_file, index=True, header=True)"
   ]
  },
  {
   "cell_type": "code",
   "execution_count": null,
   "metadata": {},
   "outputs": [],
   "source": [
    "if plot_shapiro_dist==True:\n",
    "    \n",
    "    print(\"8. Generating and writing out a plot to show the distribution of shapiro p-values. The vertical red line indicates P=0.05.\")\n",
    "    \n",
    "    import matplotlib\n",
    "    matplotlib.use('Agg')\n",
    "    \n",
    "    import matplotlib.pyplot as plt\n",
    "    import seaborn as sns\n",
    "    \n",
    "    # get plot outfile name\n",
    "    plot_out_file = mat_file.replace(\".csv\", \"_shapiro_pvals.png\")\n",
    "    \n",
    "    # plotting a density plot for the shapiro(residual) p-values\n",
    "\n",
    "    plt.figure()\n",
    "    sns.distplot(shapiro_df['shapiro_pval'], hist=True)\n",
    "    plt.xlabel('Shapiro pvals') \n",
    "    plt.axvline(x=0.05, ymax=10, c='red', alpha=0.5)\n",
    "    plt.show()\n",
    "    plt.savefig(plot_out_file)"
   ]
  },
  {
   "cell_type": "code",
   "execution_count": null,
   "metadata": {},
   "outputs": [],
   "source": []
  }
 ],
 "metadata": {
  "kernelspec": {
   "display_name": "Python 3",
   "language": "python",
   "name": "python3"
  },
  "language_info": {
   "codemirror_mode": {
    "name": "ipython",
    "version": 3
   },
   "file_extension": ".py",
   "mimetype": "text/x-python",
   "name": "python",
   "nbconvert_exporter": "python",
   "pygments_lexer": "ipython3",
   "version": "3.7.10"
  }
 },
 "nbformat": 4,
 "nbformat_minor": 2
}
